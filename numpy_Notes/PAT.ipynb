{
 "cells": [
  {
   "cell_type": "code",
   "execution_count": 142,
   "id": "f5873b61",
   "metadata": {},
   "outputs": [
    {
     "data": {
      "text/plain": [
       "array([ 0,  1,  2,  3,  4,  5,  6,  7,  8,  9, 10, 11, 12, 13, 14, 15, 16,\n",
       "       17])"
      ]
     },
     "execution_count": 142,
     "metadata": {},
     "output_type": "execute_result"
    }
   ],
   "source": [
    "\n",
    "# !pip install numpy \n",
    "\n",
    "import numpy as np \n",
    "import pandas as pd\n",
    "\n",
    "\n",
    "array = np.arange(18)\n",
    "\n",
    "array\n"
   ]
  },
  {
   "cell_type": "code",
   "execution_count": 79,
   "id": "fdf1cac6",
   "metadata": {},
   "outputs": [
    {
     "data": {
      "text/plain": [
       "array([[[ 0,  1,  2],\n",
       "        [ 3,  4,  5],\n",
       "        [ 6,  7,  8]],\n",
       "\n",
       "       [[ 9, 10, 11],\n",
       "        [12, 13, 14],\n",
       "        [15, 16, 17]]])"
      ]
     },
     "execution_count": 79,
     "metadata": {},
     "output_type": "execute_result"
    }
   ],
   "source": [
    "#creating a 2 d array \n",
    "array.reshape(2,3,-1)"
   ]
  },
  {
   "cell_type": "code",
   "execution_count": 143,
   "id": "1e31a8e2",
   "metadata": {},
   "outputs": [
    {
     "data": {
      "text/plain": [
       "array([[[ 0,  1,  2,  3,  4,  5,  6,  7,  8,  9],\n",
       "        [10, 11, 12, 13, 14, 15, 16, 17, 18, 19]],\n",
       "\n",
       "       [[20, 21, 22, 23, 24, 25, 26, 27, 28, 29],\n",
       "        [30, 31, 32, 33, 34, 35, 36, 37, 38, 39]],\n",
       "\n",
       "       [[40, 41, 42, 43, 44, 45, 46, 47, 48, 49],\n",
       "        [50, 51, 52, 53, 54, 55, 56, 57, 58, 59]]])"
      ]
     },
     "execution_count": 143,
     "metadata": {},
     "output_type": "execute_result"
    }
   ],
   "source": [
    "arry = np.arange(60)\n",
    "arry.reshape(3,2,10)"
   ]
  },
  {
   "cell_type": "code",
   "execution_count": 144,
   "id": "98bb097e",
   "metadata": {},
   "outputs": [
    {
     "data": {
      "text/plain": [
       "array([ 0,  1,  2,  3,  4,  5,  6,  7,  8,  9, 10, 11, 12, 13, 14, 15, 16,\n",
       "       17, 18, 19, 20, 21, 22, 23, 24, 25, 26, 27, 28, 29, 30, 31, 32, 33,\n",
       "       34, 35, 36, 37, 38, 39, 40, 41, 42, 43, 44, 45, 46, 47, 48, 49, 50,\n",
       "       51, 52, 53, 54, 55, 56, 57, 58, 59])"
      ]
     },
     "execution_count": 144,
     "metadata": {},
     "output_type": "execute_result"
    }
   ],
   "source": [
    "k = arry\n",
    "\n",
    "k.reshape(-1)\n",
    "\n",
    "k"
   ]
  },
  {
   "cell_type": "code",
   "execution_count": 145,
   "id": "0b24bb7f",
   "metadata": {},
   "outputs": [
    {
     "data": {
      "text/plain": [
       "array([[[ 0,  1,  2],\n",
       "        [ 3,  4,  5],\n",
       "        [ 6,  7,  8]],\n",
       "\n",
       "       [[ 9, 10, 11],\n",
       "        [12, 13, 14],\n",
       "        [15, 16, 17]]])"
      ]
     },
     "execution_count": 145,
     "metadata": {},
     "output_type": "execute_result"
    }
   ],
   "source": [
    "array =  np.arange(18).reshape(2,3,3)\n",
    "array"
   ]
  },
  {
   "cell_type": "code",
   "execution_count": 146,
   "id": "e9888f61",
   "metadata": {},
   "outputs": [
    {
     "data": {
      "text/plain": [
       "array([[[12, 13, 14],\n",
       "        [15, 16, 17]]])"
      ]
     },
     "execution_count": 146,
     "metadata": {},
     "output_type": "execute_result"
    }
   ],
   "source": [
    "#slicing in 2d array\n",
    "\n",
    "array[1:,1:3]"
   ]
  },
  {
   "cell_type": "code",
   "execution_count": 147,
   "id": "1cf1a037",
   "metadata": {},
   "outputs": [
    {
     "name": "stdout",
     "output_type": "stream",
     "text": [
      "0 1 2 3 4 5 6 7 8 9 10 11 12 13 14 15 16 17 "
     ]
    }
   ],
   "source": [
    "#iterate the array \n",
    "\n",
    "for  i in np.nditer(array):\n",
    "    print(i,end = \" \" )"
   ]
  },
  {
   "cell_type": "code",
   "execution_count": 148,
   "id": "f38bbc30",
   "metadata": {},
   "outputs": [
    {
     "name": "stdout",
     "output_type": "stream",
     "text": [
      "0 index element is [[0 1 2]\n",
      " [3 4 5]\n",
      " [6 7 8]]\n",
      "1 index element is [[ 9 10 11]\n",
      " [12 13 14]\n",
      " [15 16 17]]\n"
     ]
    }
   ],
   "source": [
    "for i,ele in enumerate(array):\n",
    "    print('{} index element is {}'.format(i,ele))\n",
    "    "
   ]
  },
  {
   "cell_type": "code",
   "execution_count": 149,
   "id": "d915d72c",
   "metadata": {},
   "outputs": [
    {
     "data": {
      "text/plain": [
       "array([[[ 0,  1,  2],\n",
       "        [ 3,  4,  5],\n",
       "        [ 6,  7,  8]],\n",
       "\n",
       "       [[ 9, 10, 11],\n",
       "        [12, 13, 14],\n",
       "        [15, 16, 17]]])"
      ]
     },
     "execution_count": 149,
     "metadata": {},
     "output_type": "execute_result"
    }
   ],
   "source": [
    "#slcicing have three things [start:stop:step] in 2d array [which dimension index:row:column]\n",
    "\n",
    "array"
   ]
  },
  {
   "cell_type": "code",
   "execution_count": 150,
   "id": "0e1a5459",
   "metadata": {},
   "outputs": [
    {
     "data": {
      "text/plain": [
       "array([[[ 9, 10]]])"
      ]
     },
     "execution_count": 150,
     "metadata": {},
     "output_type": "execute_result"
    }
   ],
   "source": [
    "array[1:,0:1,0:2]\n",
    "                        "
   ]
  },
  {
   "cell_type": "code",
   "execution_count": 151,
   "id": "a4d6811e",
   "metadata": {},
   "outputs": [
    {
     "data": {
      "text/plain": [
       "(2, 3, 3)"
      ]
     },
     "execution_count": 151,
     "metadata": {},
     "output_type": "execute_result"
    }
   ],
   "source": [
    "array.shape"
   ]
  },
  {
   "cell_type": "code",
   "execution_count": 152,
   "id": "6792fc8d",
   "metadata": {},
   "outputs": [
    {
     "data": {
      "text/plain": [
       "array([[[ 0,  1],\n",
       "        [ 3,  4]],\n",
       "\n",
       "       [[ 9, 10],\n",
       "        [12, 13]]])"
      ]
     },
     "execution_count": 152,
     "metadata": {},
     "output_type": "execute_result"
    }
   ],
   "source": [
    "array[0:,0:2,0:2]"
   ]
  },
  {
   "cell_type": "code",
   "execution_count": 153,
   "id": "12fbda3c",
   "metadata": {},
   "outputs": [],
   "source": [
    "sample = np.arange(24).reshape(3,2,4)"
   ]
  },
  {
   "cell_type": "code",
   "execution_count": 154,
   "id": "1adc402b",
   "metadata": {},
   "outputs": [
    {
     "data": {
      "text/plain": [
       "array([[[ 0,  1,  2,  3],\n",
       "        [ 4,  5,  6,  7]],\n",
       "\n",
       "       [[ 8,  9, 10, 11],\n",
       "        [12, 13, 14, 15]],\n",
       "\n",
       "       [[16, 17, 18, 19],\n",
       "        [20, 21, 22, 23]]])"
      ]
     },
     "execution_count": 154,
     "metadata": {},
     "output_type": "execute_result"
    }
   ],
   "source": [
    "sample"
   ]
  },
  {
   "cell_type": "code",
   "execution_count": 155,
   "id": "69c7297b",
   "metadata": {},
   "outputs": [
    {
     "data": {
      "text/plain": [
       "array([[[ 0,  1,  2,  3]],\n",
       "\n",
       "       [[ 8,  9, 10, 11]],\n",
       "\n",
       "       [[16, 17, 18, 19]]])"
      ]
     },
     "execution_count": 155,
     "metadata": {},
     "output_type": "execute_result"
    }
   ],
   "source": [
    "sample[:,:1,:]"
   ]
  },
  {
   "cell_type": "code",
   "execution_count": 156,
   "id": "4b00e1cd",
   "metadata": {},
   "outputs": [
    {
     "data": {
      "text/plain": [
       "array([[[ 0,  1,  2,  3],\n",
       "        [ 4,  5,  6,  7]],\n",
       "\n",
       "       [[ 8,  9, 10, 11],\n",
       "        [12, 13, 14, 15]],\n",
       "\n",
       "       [[16, 17, 18, 19],\n",
       "        [20, 21, 22, 23]]])"
      ]
     },
     "execution_count": 156,
     "metadata": {},
     "output_type": "execute_result"
    }
   ],
   "source": [
    "sample"
   ]
  },
  {
   "cell_type": "code",
   "execution_count": null,
   "id": "c9e72d45",
   "metadata": {},
   "outputs": [],
   "source": []
  },
  {
   "cell_type": "code",
   "execution_count": 157,
   "id": "380d53e7",
   "metadata": {},
   "outputs": [
    {
     "data": {
      "text/plain": [
       "array([[[ 0,  1,  2,  3],\n",
       "        [ 4,  5,  6,  7],\n",
       "        [ 8,  9, 10, 11]],\n",
       "\n",
       "       [[12, 13, 14, 15],\n",
       "        [16, 17, 18, 19],\n",
       "        [20, 21, 22, 23]]])"
      ]
     },
     "execution_count": 157,
     "metadata": {},
     "output_type": "execute_result"
    }
   ],
   "source": [
    "sample.reshape(2,3,4)"
   ]
  },
  {
   "cell_type": "code",
   "execution_count": 158,
   "id": "a1885574",
   "metadata": {},
   "outputs": [
    {
     "ename": "TypeError",
     "evalue": "only integer scalar arrays can be converted to a scalar index",
     "output_type": "error",
     "traceback": [
      "\u001b[1;31m---------------------------------------------------------------------------\u001b[0m",
      "\u001b[1;31mTypeError\u001b[0m                                 Traceback (most recent call last)",
      "Cell \u001b[1;32mIn[158], line 1\u001b[0m\n\u001b[1;32m----> 1\u001b[0m \u001b[43mnp\u001b[49m\u001b[38;5;241;43m.\u001b[39;49m\u001b[43mconcatenate\u001b[49m\u001b[43m(\u001b[49m\u001b[43marray\u001b[49m\u001b[43m,\u001b[49m\u001b[43msample\u001b[49m\u001b[43m)\u001b[49m\n",
      "File \u001b[1;32m<__array_function__ internals>:180\u001b[0m, in \u001b[0;36mconcatenate\u001b[1;34m(*args, **kwargs)\u001b[0m\n",
      "\u001b[1;31mTypeError\u001b[0m: only integer scalar arrays can be converted to a scalar index"
     ]
    }
   ],
   "source": [
    "np.concatenate(array,sample)\n"
   ]
  },
  {
   "cell_type": "code",
   "execution_count": 159,
   "id": "c920dccf",
   "metadata": {},
   "outputs": [
    {
     "data": {
      "text/plain": [
       "(2, 3, 3)"
      ]
     },
     "execution_count": 159,
     "metadata": {},
     "output_type": "execute_result"
    }
   ],
   "source": [
    "array.shape"
   ]
  },
  {
   "cell_type": "code",
   "execution_count": 160,
   "id": "1b4536b3",
   "metadata": {},
   "outputs": [
    {
     "data": {
      "text/plain": [
       "(3, 2, 4)"
      ]
     },
     "execution_count": 160,
     "metadata": {},
     "output_type": "execute_result"
    }
   ],
   "source": [
    "sample.shape"
   ]
  },
  {
   "cell_type": "markdown",
   "id": "bf447764",
   "metadata": {},
   "source": [
    "# using stacking in numpy \n"
   ]
  },
  {
   "cell_type": "code",
   "execution_count": 161,
   "id": "ce0ddc49",
   "metadata": {},
   "outputs": [],
   "source": [
    "a = np.arange(12)\n",
    "b = np.arange(12,24)\n"
   ]
  },
  {
   "cell_type": "code",
   "execution_count": 162,
   "id": "c99c402a",
   "metadata": {},
   "outputs": [
    {
     "data": {
      "text/plain": [
       "array([[ 0,  1,  2,  3,  4,  5,  6,  7,  8,  9, 10, 11],\n",
       "       [12, 13, 14, 15, 16, 17, 18, 19, 20, 21, 22, 23]])"
      ]
     },
     "execution_count": 162,
     "metadata": {},
     "output_type": "execute_result"
    }
   ],
   "source": [
    "#stack default axis is row \n",
    "\n",
    "np.stack((a,b))"
   ]
  },
  {
   "cell_type": "code",
   "execution_count": 163,
   "id": "08c78240",
   "metadata": {},
   "outputs": [
    {
     "data": {
      "text/plain": [
       "array([ 0,  1,  2,  3,  4,  5,  6,  7,  8,  9, 10, 11, 12, 13, 14, 15, 16,\n",
       "       17, 18, 19, 20, 21, 22, 23])"
      ]
     },
     "execution_count": 163,
     "metadata": {},
     "output_type": "execute_result"
    }
   ],
   "source": [
    "\n",
    "#hstack \n",
    "\n",
    "np.hstack((a,b))"
   ]
  },
  {
   "cell_type": "code",
   "execution_count": 164,
   "id": "76593a7a",
   "metadata": {},
   "outputs": [
    {
     "data": {
      "text/plain": [
       "array([[ 0, 12],\n",
       "       [ 1, 13],\n",
       "       [ 2, 14],\n",
       "       [ 3, 15],\n",
       "       [ 4, 16],\n",
       "       [ 5, 17],\n",
       "       [ 6, 18],\n",
       "       [ 7, 19],\n",
       "       [ 8, 20],\n",
       "       [ 9, 21],\n",
       "       [10, 22],\n",
       "       [11, 23]])"
      ]
     },
     "execution_count": 164,
     "metadata": {},
     "output_type": "execute_result"
    }
   ],
   "source": [
    "np.stack((a,b),axis = 1)\n"
   ]
  },
  {
   "cell_type": "code",
   "execution_count": 165,
   "id": "ca49c111",
   "metadata": {},
   "outputs": [],
   "source": [
    "a1 = a.reshape(2,6)"
   ]
  },
  {
   "cell_type": "code",
   "execution_count": 166,
   "id": "d62d92d3",
   "metadata": {},
   "outputs": [],
   "source": [
    "a2 = b.reshape(2,-1)"
   ]
  },
  {
   "cell_type": "code",
   "execution_count": 167,
   "id": "40d0b920",
   "metadata": {},
   "outputs": [
    {
     "data": {
      "text/plain": [
       "array([[[ 0, 12],\n",
       "        [ 1, 13],\n",
       "        [ 2, 14],\n",
       "        [ 3, 15],\n",
       "        [ 4, 16],\n",
       "        [ 5, 17]],\n",
       "\n",
       "       [[ 6, 18],\n",
       "        [ 7, 19],\n",
       "        [ 8, 20],\n",
       "        [ 9, 21],\n",
       "        [10, 22],\n",
       "        [11, 23]]])"
      ]
     },
     "execution_count": 167,
     "metadata": {},
     "output_type": "execute_result"
    }
   ],
   "source": [
    "c =np.stack((a1,a2),axis = 2) #column wise stacking \n",
    "c"
   ]
  },
  {
   "cell_type": "code",
   "execution_count": 168,
   "id": "6164c6df",
   "metadata": {},
   "outputs": [
    {
     "data": {
      "text/plain": [
       "(2, 6, 2)"
      ]
     },
     "execution_count": 168,
     "metadata": {},
     "output_type": "execute_result"
    }
   ],
   "source": [
    "c.shape"
   ]
  },
  {
   "cell_type": "code",
   "execution_count": 169,
   "id": "1be2dc54",
   "metadata": {},
   "outputs": [],
   "source": [
    "#sorting the array \n",
    "a3 = [109,12321,23,2,12,12]\n",
    "k = np.where(a3 == 23 )"
   ]
  },
  {
   "cell_type": "code",
   "execution_count": 170,
   "id": "120958c6",
   "metadata": {},
   "outputs": [
    {
     "data": {
      "text/plain": [
       "array([[[ 0,  1,  2,  3,  4,  5],\n",
       "        [12, 13, 14, 15, 16, 17]],\n",
       "\n",
       "       [[ 6,  7,  8,  9, 10, 11],\n",
       "        [18, 19, 20, 21, 22, 23]]])"
      ]
     },
     "execution_count": 170,
     "metadata": {},
     "output_type": "execute_result"
    }
   ],
   "source": [
    "#axis = 1 take one row from one dimension and stack then together \n",
    "\n",
    "np.stack((a1,a2),axis = 1)"
   ]
  },
  {
   "cell_type": "code",
   "execution_count": 171,
   "id": "2e04046b",
   "metadata": {},
   "outputs": [
    {
     "data": {
      "text/plain": [
       "array([[[ 0,  1,  2,  3,  4,  5],\n",
       "        [ 6,  7,  8,  9, 10, 11]],\n",
       "\n",
       "       [[12, 13, 14, 15, 16, 17],\n",
       "        [18, 19, 20, 21, 22, 23]]])"
      ]
     },
     "execution_count": 171,
     "metadata": {},
     "output_type": "execute_result"
    }
   ],
   "source": [
    "#axis = 1 take one dimesion at one time and stack them together one below the other \n",
    "\n",
    "np.stack((a1,a2),axis=0)"
   ]
  },
  {
   "cell_type": "code",
   "execution_count": 183,
   "id": "fbf79f49",
   "metadata": {},
   "outputs": [
    {
     "data": {
      "text/plain": [
       "array([[ 1,  2,  2, 12, 12, 23],\n",
       "       [ 3,  4,  3,  1,  2,  4]])"
      ]
     },
     "execution_count": 183,
     "metadata": {},
     "output_type": "execute_result"
    }
   ],
   "source": [
    "a1 = [[1,2,2],[3,4,3]]\n",
    "a2 = [[12,12,23],[1,2,4]]\n",
    "np.concatenate((a1,a2),axis =1)"
   ]
  },
  {
   "cell_type": "code",
   "execution_count": null,
   "id": "77bd4442",
   "metadata": {},
   "outputs": [],
   "source": []
  },
  {
   "cell_type": "code",
   "execution_count": null,
   "id": "4ebbcc46",
   "metadata": {},
   "outputs": [],
   "source": []
  }
 ],
 "metadata": {
  "kernelspec": {
   "display_name": "Python 3 (ipykernel)",
   "language": "python",
   "name": "python3"
  },
  "language_info": {
   "codemirror_mode": {
    "name": "ipython",
    "version": 3
   },
   "file_extension": ".py",
   "mimetype": "text/x-python",
   "name": "python",
   "nbconvert_exporter": "python",
   "pygments_lexer": "ipython3",
   "version": "3.10.9"
  }
 },
 "nbformat": 4,
 "nbformat_minor": 5
}
